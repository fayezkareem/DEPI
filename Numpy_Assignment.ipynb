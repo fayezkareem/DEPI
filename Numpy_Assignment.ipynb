{
  "nbformat": 4,
  "nbformat_minor": 0,
  "metadata": {
    "colab": {
      "provenance": [],
      "gpuType": "T4",
      "authorship_tag": "ABX9TyORiPvRXaPI72YqHJijoVDY",
      "include_colab_link": true
    },
    "kernelspec": {
      "name": "python3",
      "display_name": "Python 3"
    },
    "language_info": {
      "name": "python"
    },
    "accelerator": "GPU"
  },
  "cells": [
    {
      "cell_type": "markdown",
      "metadata": {
        "id": "view-in-github",
        "colab_type": "text"
      },
      "source": [
        "<a href=\"https://colab.research.google.com/github/fayezkareem/DEPI/blob/main/Numpy_Assignment.ipynb\" target=\"_parent\"><img src=\"https://colab.research.google.com/assets/colab-badge.svg\" alt=\"Open In Colab\"/></a>"
      ]
    },
    {
      "cell_type": "code",
      "execution_count": 3,
      "metadata": {
        "colab": {
          "base_uri": "https://localhost:8080/"
        },
        "id": "RnNBMLRI1OE6",
        "outputId": "12cb4d49-490e-4f3f-87b9-d7dff7051250"
      },
      "outputs": [
        {
          "output_type": "stream",
          "name": "stdout",
          "text": [
            "[1 2 3 4 5]\n"
          ]
        }
      ],
      "source": [
        "import numpy as np\n",
        "arr = np.array([1,2,3,4,5])\n",
        "print(arr)"
      ]
    },
    {
      "cell_type": "code",
      "source": [
        "arr=np.array(50)\n",
        "print(arr)"
      ],
      "metadata": {
        "colab": {
          "base_uri": "https://localhost:8080/"
        },
        "id": "4iowC7PD1abS",
        "outputId": "3102cfb7-76cb-4a45-b341-671194d68e20"
      },
      "execution_count": 4,
      "outputs": [
        {
          "output_type": "stream",
          "name": "stdout",
          "text": [
            "50\n"
          ]
        }
      ]
    },
    {
      "cell_type": "code",
      "source": [
        "a=np.array([1,2,3,4])\n",
        "print(a)"
      ],
      "metadata": {
        "colab": {
          "base_uri": "https://localhost:8080/"
        },
        "id": "6zoi86my1wtU",
        "outputId": "4e4ea4a3-cdde-467b-cf92-ee5238351de9"
      },
      "execution_count": 5,
      "outputs": [
        {
          "output_type": "stream",
          "name": "stdout",
          "text": [
            "[1 2 3 4]\n"
          ]
        }
      ]
    },
    {
      "cell_type": "code",
      "source": [
        "arr=np.array([[1,2,3,4],[5,6,7,8],[9,10,11,12]])\n",
        "print(arr)\n",
        "print(arr.ndim)\n",
        "arr.shape=(4,3)\n",
        "a=arr.reshape(6,2)\n",
        "print(arr)\n",
        "print(a)"
      ],
      "metadata": {
        "colab": {
          "base_uri": "https://localhost:8080/"
        },
        "id": "k30UNEu13EVF",
        "outputId": "a72fc2cb-7fa4-4484-d01a-97d48f373c52"
      },
      "execution_count": 6,
      "outputs": [
        {
          "output_type": "stream",
          "name": "stdout",
          "text": [
            "[[ 1  2  3  4]\n",
            " [ 5  6  7  8]\n",
            " [ 9 10 11 12]]\n",
            "2\n",
            "[[ 1  2  3]\n",
            " [ 4  5  6]\n",
            " [ 7  8  9]\n",
            " [10 11 12]]\n",
            "[[ 1  2]\n",
            " [ 3  4]\n",
            " [ 5  6]\n",
            " [ 7  8]\n",
            " [ 9 10]\n",
            " [11 12]]\n"
          ]
        }
      ]
    },
    {
      "cell_type": "code",
      "source": [
        "arr=np.array([[[1,2,3],[4,5,6]],[[7,8,9],[10,11,12]],[[13,14,15],[16,17,18]]])\n",
        "print(arr)\n",
        "print(arr.ndim)\n",
        "print(arr.shape)"
      ],
      "metadata": {
        "colab": {
          "base_uri": "https://localhost:8080/"
        },
        "id": "zwbYY4lu3e-y",
        "outputId": "39f5587d-6260-48c1-fdbc-77f7594d68e3"
      },
      "execution_count": 7,
      "outputs": [
        {
          "output_type": "stream",
          "name": "stdout",
          "text": [
            "[[[ 1  2  3]\n",
            "  [ 4  5  6]]\n",
            "\n",
            " [[ 7  8  9]\n",
            "  [10 11 12]]\n",
            "\n",
            " [[13 14 15]\n",
            "  [16 17 18]]]\n",
            "3\n",
            "(3, 2, 3)\n"
          ]
        }
      ]
    },
    {
      "cell_type": "code",
      "source": [
        "a=np.array((1,2,3),dtype=float)\n",
        "print(a)\n",
        "print(type(a))"
      ],
      "metadata": {
        "id": "XjM6Ctni4avV",
        "colab": {
          "base_uri": "https://localhost:8080/"
        },
        "outputId": "7cad29ad-30cb-4d26-e195-eb98de37788a"
      },
      "execution_count": 8,
      "outputs": [
        {
          "output_type": "stream",
          "name": "stdout",
          "text": [
            "[1. 2. 3.]\n",
            "<class 'numpy.ndarray'>\n"
          ]
        }
      ]
    },
    {
      "cell_type": "code",
      "source": [
        "a=np.arange(20)\n",
        "b=a.reshape(2,10)\n",
        "print(a)\n",
        "print(a.ndim)\n",
        "print(b)"
      ],
      "metadata": {
        "colab": {
          "base_uri": "https://localhost:8080/"
        },
        "id": "CnOpxmhRB3Fi",
        "outputId": "bfe9d9e4-95a3-4917-b896-e95a04b63567"
      },
      "execution_count": 9,
      "outputs": [
        {
          "output_type": "stream",
          "name": "stdout",
          "text": [
            "[ 0  1  2  3  4  5  6  7  8  9 10 11 12 13 14 15 16 17 18 19]\n",
            "1\n",
            "[[ 0  1  2  3  4  5  6  7  8  9]\n",
            " [10 11 12 13 14 15 16 17 18 19]]\n"
          ]
        }
      ]
    },
    {
      "cell_type": "code",
      "source": [
        "x=np.array([1,2,3,4,5],dtype=np.int8)\n",
        "print(x.itemsize)\n",
        "x=np.array([1,2,3],dtype=np.float64)\n",
        "print(x.itemsize)"
      ],
      "metadata": {
        "colab": {
          "base_uri": "https://localhost:8080/"
        },
        "id": "Chs5nQAmFJ1x",
        "outputId": "4c1c57d6-de34-4071-9dd5-c9833c072aff"
      },
      "execution_count": 10,
      "outputs": [
        {
          "output_type": "stream",
          "name": "stdout",
          "text": [
            "1\n",
            "8\n"
          ]
        }
      ]
    },
    {
      "cell_type": "code",
      "source": [
        "a=np.empty((3,3),dtype=int)\n",
        "print(a)"
      ],
      "metadata": {
        "colab": {
          "base_uri": "https://localhost:8080/"
        },
        "id": "UKHcCWZ-KyWF",
        "outputId": "25196254-ef43-476d-f89f-87dd396ea186"
      },
      "execution_count": 11,
      "outputs": [
        {
          "output_type": "stream",
          "name": "stdout",
          "text": [
            "[[96000066762219              0              0]\n",
            " [             0              0              0]\n",
            " [             0              0              0]]\n"
          ]
        }
      ]
    },
    {
      "cell_type": "code",
      "source": [
        "x = np.zeros(5)\n",
        "print(x)\n",
        "\n",
        "x = np.zeros((6,3), dtype = int)\n",
        "print(x)"
      ],
      "metadata": {
        "colab": {
          "base_uri": "https://localhost:8080/"
        },
        "id": "kXWnSQhxL7K0",
        "outputId": "ce01456a-2184-4676-c854-f2e40a374f69"
      },
      "execution_count": 12,
      "outputs": [
        {
          "output_type": "stream",
          "name": "stdout",
          "text": [
            "[0. 0. 0. 0. 0.]\n",
            "[[0 0 0]\n",
            " [0 0 0]\n",
            " [0 0 0]\n",
            " [0 0 0]\n",
            " [0 0 0]\n",
            " [0 0 0]]\n"
          ]
        }
      ]
    },
    {
      "cell_type": "code",
      "source": [
        "x = np.ones(5)\n",
        "print(x)\n",
        "\n",
        "x = np.ones((6,3), dtype = int)\n",
        "print(x)"
      ],
      "metadata": {
        "colab": {
          "base_uri": "https://localhost:8080/"
        },
        "id": "kFoNhWcpMdAU",
        "outputId": "bade3acc-2498-4dd7-f367-a506b3cb7167"
      },
      "execution_count": 13,
      "outputs": [
        {
          "output_type": "stream",
          "name": "stdout",
          "text": [
            "[1. 1. 1. 1. 1.]\n",
            "[[1 1 1]\n",
            " [1 1 1]\n",
            " [1 1 1]\n",
            " [1 1 1]\n",
            " [1 1 1]\n",
            " [1 1 1]]\n"
          ]
        }
      ]
    },
    {
      "cell_type": "code",
      "source": [
        "x=([1,2,3],[4,5,6])\n",
        "a=np.asarray(x)\n",
        "print(a)\n",
        "y=[(1,2,3),(4,5,6)]\n",
        "b=np.asarray(y)\n",
        "print(b)"
      ],
      "metadata": {
        "colab": {
          "base_uri": "https://localhost:8080/"
        },
        "id": "qP-3bjltMkjg",
        "outputId": "46e8d6e8-085a-4fa0-a868-09e5c6d2972f"
      },
      "execution_count": 14,
      "outputs": [
        {
          "output_type": "stream",
          "name": "stdout",
          "text": [
            "[[1 2 3]\n",
            " [4 5 6]]\n",
            "[[1 2 3]\n",
            " [4 5 6]]\n"
          ]
        }
      ]
    },
    {
      "cell_type": "code",
      "source": [
        "s = b\"hello world\"\n",
        "np.frombuffer(s, dtype='S1', count=5, offset=0)"
      ],
      "metadata": {
        "colab": {
          "base_uri": "https://localhost:8080/"
        },
        "id": "oj8OQAHENM5p",
        "outputId": "3cb97fb4-a524-4286-d3fe-210cbfc1cf0a"
      },
      "execution_count": 15,
      "outputs": [
        {
          "output_type": "execute_result",
          "data": {
            "text/plain": [
              "array([b'h', b'e', b'l', b'l', b'o'], dtype='|S1')"
            ]
          },
          "metadata": {},
          "execution_count": 15
        }
      ]
    },
    {
      "cell_type": "code",
      "source": [
        "mylist=(x*x for x in range(6))\n",
        "x=np.fromiter(mylist,dtype=int)\n",
        "print(x)"
      ],
      "metadata": {
        "colab": {
          "base_uri": "https://localhost:8080/"
        },
        "id": "nHrH-oD0PDVf",
        "outputId": "9774931d-2cab-4e40-aa0f-a4bd212b3ae5"
      },
      "execution_count": 16,
      "outputs": [
        {
          "output_type": "stream",
          "name": "stdout",
          "text": [
            "[ 0  1  4  9 16 25]\n"
          ]
        }
      ]
    },
    {
      "cell_type": "code",
      "source": [
        "iteration=((x+1,x+2,x+3,x+4) for x in range(6))\n",
        "x=np.fromiter(iteration,dtype=np.dtype((int,4)))\n",
        "print(x)"
      ],
      "metadata": {
        "colab": {
          "base_uri": "https://localhost:8080/"
        },
        "id": "r-QhOGofSyYG",
        "outputId": "f33d183f-30aa-4555-b1cc-0932a371ded8"
      },
      "execution_count": 17,
      "outputs": [
        {
          "output_type": "stream",
          "name": "stdout",
          "text": [
            "[[1 2 3 4]\n",
            " [2 3 4 5]\n",
            " [3 4 5 6]\n",
            " [4 5 6 7]\n",
            " [5 6 7 8]\n",
            " [6 7 8 9]]\n"
          ]
        }
      ]
    },
    {
      "cell_type": "code",
      "source": [
        "arr=np.array([1,2,3,4])\n",
        "print(arr[0]+arr[3])"
      ],
      "metadata": {
        "colab": {
          "base_uri": "https://localhost:8080/"
        },
        "id": "SEZfgY7OTaSB",
        "outputId": "4cd88c71-c832-4f15-d2ca-c65106b6fae4"
      },
      "execution_count": 18,
      "outputs": [
        {
          "output_type": "stream",
          "name": "stdout",
          "text": [
            "5\n"
          ]
        }
      ]
    },
    {
      "cell_type": "code",
      "source": [
        "arr=np.array([[[1,2,3],[4,5,6]],[[7,8,9],[9,10,11]]])\n",
        "print('1st element in row 2=',arr[0,1,1])\n",
        "print(arr[1,1,-2])"
      ],
      "metadata": {
        "colab": {
          "base_uri": "https://localhost:8080/"
        },
        "id": "z8keCmVGc57V",
        "outputId": "544c6364-b220-4339-ea4c-ddfdbf2f47ce"
      },
      "execution_count": 19,
      "outputs": [
        {
          "output_type": "stream",
          "name": "stdout",
          "text": [
            "1st element in row 2= 5\n",
            "10\n"
          ]
        }
      ]
    },
    {
      "cell_type": "code",
      "source": [
        "arr=np.array([1,2,3,4,5,6,7,8,9])\n",
        "print(arr[1:5])\n",
        "print(arr[:4])\n",
        "print(arr[1:])\n",
        "print(arr[0:8:2])\n",
        "print(arr[-3:-1])\n",
        "print(arr[::4])"
      ],
      "metadata": {
        "colab": {
          "base_uri": "https://localhost:8080/"
        },
        "id": "Avq1fftIh3yn",
        "outputId": "42a29702-a1d9-4ca6-c8b0-7d690a433b75"
      },
      "execution_count": 20,
      "outputs": [
        {
          "output_type": "stream",
          "name": "stdout",
          "text": [
            "[2 3 4 5]\n",
            "[1 2 3 4]\n",
            "[2 3 4 5 6 7 8 9]\n",
            "[1 3 5 7]\n",
            "[7 8]\n",
            "[1 5 9]\n"
          ]
        }
      ]
    },
    {
      "cell_type": "code",
      "source": [
        "arr = np.array([[1, 2, 3, 4, 5], [6, 7, 8, 9, 10]])\n",
        "print(arr[1, 1:4])\n",
        "print(arr[0:2, 2])\n",
        "print(arr[0:2, 1:4])"
      ],
      "metadata": {
        "colab": {
          "base_uri": "https://localhost:8080/"
        },
        "id": "kE-V2KCfoIwh",
        "outputId": "21100e41-3332-413f-fac2-7676c7c3b5df"
      },
      "execution_count": 21,
      "outputs": [
        {
          "output_type": "stream",
          "name": "stdout",
          "text": [
            "[7 8 9]\n",
            "[3 8]\n",
            "[[2 3 4]\n",
            " [7 8 9]]\n"
          ]
        }
      ]
    },
    {
      "cell_type": "code",
      "source": [
        "arr = np.array(['apple', 'banana', 'orange'])\n",
        "print(arr)\n",
        "print(arr.dtype)\n",
        "arr = np.array([1, 0, 3, 4], dtype='f8')\n",
        "print(arr.dtype)\n",
        "print(arr)\n",
        "newarr = arr.astype(bool)\n",
        "print(newarr)\n",
        "print(newarr.dtype)\n",
        "arr_new = arr.astype(np.int32)\n",
        "print(arr_new.dtype)\n",
        "print(arr_new)\n"
      ],
      "metadata": {
        "colab": {
          "base_uri": "https://localhost:8080/"
        },
        "id": "y_xvFsz-sNOP",
        "outputId": "37acc4e8-57c4-490e-8dc7-9788bfc6dc0e"
      },
      "execution_count": 22,
      "outputs": [
        {
          "output_type": "stream",
          "name": "stdout",
          "text": [
            "['apple' 'banana' 'orange']\n",
            "<U6\n",
            "float64\n",
            "[1. 0. 3. 4.]\n",
            "[ True False  True  True]\n",
            "bool\n",
            "int32\n",
            "[1 0 3 4]\n"
          ]
        }
      ]
    },
    {
      "cell_type": "code",
      "source": [
        "arr=np.array([1,2,3,4])\n",
        "x=arr.copy()\n",
        "y=arr.view()\n",
        "arr[0]=50\n",
        "print(arr)\n",
        "print(x)\n",
        "print(y)\n",
        "print(x.base)\n",
        "print(y.base)"
      ],
      "metadata": {
        "colab": {
          "base_uri": "https://localhost:8080/"
        },
        "id": "BzFVbTQexLFO",
        "outputId": "53e70332-834d-4914-f4bb-0f91fe92f48b"
      },
      "execution_count": 23,
      "outputs": [
        {
          "output_type": "stream",
          "name": "stdout",
          "text": [
            "[50  2  3  4]\n",
            "[1 2 3 4]\n",
            "[50  2  3  4]\n",
            "None\n",
            "[50  2  3  4]\n"
          ]
        }
      ]
    },
    {
      "cell_type": "code",
      "source": [
        "x=np.array([1,2,3,4,5,6,7,8,9,10,11,12])\n",
        "newarr=x.reshape(4,3)\n",
        "print(newarr)\n",
        "arr = np.array([[1, 2, 3], [4, 5, 6]])\n",
        "newarr = arr.reshape(-1)\n",
        "print(newarr)\n",
        "newarr = arr.flatten()\n",
        "print(newarr)"
      ],
      "metadata": {
        "colab": {
          "base_uri": "https://localhost:8080/"
        },
        "id": "jLlhSBQ9NHMu",
        "outputId": "6bf5fb08-a76c-4b4b-cd2d-ca793f6766ee"
      },
      "execution_count": 24,
      "outputs": [
        {
          "output_type": "stream",
          "name": "stdout",
          "text": [
            "[[ 1  2  3]\n",
            " [ 4  5  6]\n",
            " [ 7  8  9]\n",
            " [10 11 12]]\n",
            "[1 2 3 4 5 6]\n",
            "[1 2 3 4 5 6]\n"
          ]
        }
      ]
    },
    {
      "cell_type": "code",
      "source": [
        "arr=np.array([[1,2,3,4],[5,6,7,8]])\n",
        "for x in arr:\n",
        "  print(x)\n",
        "for x in arr:\n",
        "  for y in x:\n",
        "    print(y)"
      ],
      "metadata": {
        "id": "gPIcvWByPAcb",
        "colab": {
          "base_uri": "https://localhost:8080/"
        },
        "outputId": "61916a04-97e1-495f-adf0-089be3ca7554"
      },
      "execution_count": 25,
      "outputs": [
        {
          "output_type": "stream",
          "name": "stdout",
          "text": [
            "[1 2 3 4]\n",
            "[5 6 7 8]\n",
            "1\n",
            "2\n",
            "3\n",
            "4\n",
            "5\n",
            "6\n",
            "7\n",
            "8\n"
          ]
        }
      ]
    },
    {
      "cell_type": "code",
      "source": [
        "arr=np.array([[[1,2,3],[4,5,6]],[[7,8,9],[10,11,12]]])\n",
        "for x in arr:\n",
        "  for y in x:\n",
        "    for z in y:\n",
        "      print(z)\n",
        "print(x.shape)\n",
        "for x in np.nditer(arr):\n",
        "    print(x)\n",
        "for x in np.nditer(arr, flags=['buffered'], op_dtypes=['S']):\n",
        "  print(x)\n",
        "for x in np.nditer(arr[:,:, ::2]):\n",
        "  print(x)\n",
        "for idx,x in np.ndenumerate(arr):\n",
        "  print(idx,x)"
      ],
      "metadata": {
        "colab": {
          "base_uri": "https://localhost:8080/"
        },
        "id": "SMHDptboWrGG",
        "outputId": "6968122b-1785-49ef-dd9c-35c1070a6e80"
      },
      "execution_count": 26,
      "outputs": [
        {
          "output_type": "stream",
          "name": "stdout",
          "text": [
            "1\n",
            "2\n",
            "3\n",
            "4\n",
            "5\n",
            "6\n",
            "7\n",
            "8\n",
            "9\n",
            "10\n",
            "11\n",
            "12\n",
            "(2, 3)\n",
            "1\n",
            "2\n",
            "3\n",
            "4\n",
            "5\n",
            "6\n",
            "7\n",
            "8\n",
            "9\n",
            "10\n",
            "11\n",
            "12\n",
            "b'1'\n",
            "b'2'\n",
            "b'3'\n",
            "b'4'\n",
            "b'5'\n",
            "b'6'\n",
            "b'7'\n",
            "b'8'\n",
            "b'9'\n",
            "b'10'\n",
            "b'11'\n",
            "b'12'\n",
            "1\n",
            "3\n",
            "4\n",
            "6\n",
            "7\n",
            "9\n",
            "10\n",
            "12\n",
            "(0, 0, 0) 1\n",
            "(0, 0, 1) 2\n",
            "(0, 0, 2) 3\n",
            "(0, 1, 0) 4\n",
            "(0, 1, 1) 5\n",
            "(0, 1, 2) 6\n",
            "(1, 0, 0) 7\n",
            "(1, 0, 1) 8\n",
            "(1, 0, 2) 9\n",
            "(1, 1, 0) 10\n",
            "(1, 1, 1) 11\n",
            "(1, 1, 2) 12\n"
          ]
        }
      ]
    },
    {
      "cell_type": "code",
      "source": [
        "arr1 = np.array([[1, 2], [3, 4]])\n",
        "arr2 = np.array([[5, 6], [7, 8]])\n",
        "print(arr1)\n",
        "print(\"#####\"*20)\n",
        "print(arr2)\n",
        "print(\"#####\"*20)\n",
        "arr = np.concatenate((arr1, arr2) , axis=1)\n",
        "print(arr)\n",
        "print(\"#####\"*20)\n",
        "arr = np.stack((arr1, arr2), axis=0)\n",
        "print(arr)\n",
        "print(\"#####\"*20)\n",
        "arr = np.hstack((arr1, arr2))\n",
        "print(arr)\n",
        "print(\"#####\"*20)\n",
        "arr = np.vstack((arr1, arr2))\n",
        "print(arr)\n",
        "print(\"#####\"*20)\n",
        "arr = np.dstack((arr1, arr2))\n",
        "print(arr)\n",
        "print(arr.shape)\n"
      ],
      "metadata": {
        "colab": {
          "base_uri": "https://localhost:8080/"
        },
        "id": "Dpglx5BPYH9W",
        "outputId": "06298c64-9d9c-4dc0-bbc9-0187803e763f"
      },
      "execution_count": 27,
      "outputs": [
        {
          "output_type": "stream",
          "name": "stdout",
          "text": [
            "[[1 2]\n",
            " [3 4]]\n",
            "####################################################################################################\n",
            "[[5 6]\n",
            " [7 8]]\n",
            "####################################################################################################\n",
            "[[1 2 5 6]\n",
            " [3 4 7 8]]\n",
            "####################################################################################################\n",
            "[[[1 2]\n",
            "  [3 4]]\n",
            "\n",
            " [[5 6]\n",
            "  [7 8]]]\n",
            "####################################################################################################\n",
            "[[1 2 5 6]\n",
            " [3 4 7 8]]\n",
            "####################################################################################################\n",
            "[[1 2]\n",
            " [3 4]\n",
            " [5 6]\n",
            " [7 8]]\n",
            "####################################################################################################\n",
            "[[[1 5]\n",
            "  [2 6]]\n",
            "\n",
            " [[3 7]\n",
            "  [4 8]]]\n",
            "(2, 2, 2)\n"
          ]
        }
      ]
    },
    {
      "cell_type": "code",
      "source": [
        "arr = np.array([[1,2,3], [4,5,6], [7,8,9], [10,11,12], [13,14,15], [16,17,18]])\n",
        "new_arr=np.array_split(arr,4)\n",
        "print(new_arr)\n",
        "newarr = np.array_split(arr, 3, axis=1)\n",
        "print(newarr)\n",
        "print(\"#####\"*20)\n",
        "x = np.where(arr == 4)\n",
        "print(x)"
      ],
      "metadata": {
        "id": "lfh0A1ncbQ-m",
        "colab": {
          "base_uri": "https://localhost:8080/"
        },
        "outputId": "bbafdf98-3df1-45d8-829b-2abb47b39fa3"
      },
      "execution_count": 33,
      "outputs": [
        {
          "output_type": "stream",
          "name": "stdout",
          "text": [
            "[array([[1, 2, 3],\n",
            "       [4, 5, 6]]), array([[ 7,  8,  9],\n",
            "       [10, 11, 12]]), array([[13, 14, 15]]), array([[16, 17, 18]])]\n",
            "[array([[ 1],\n",
            "       [ 4],\n",
            "       [ 7],\n",
            "       [10],\n",
            "       [13],\n",
            "       [16]]), array([[ 2],\n",
            "       [ 5],\n",
            "       [ 8],\n",
            "       [11],\n",
            "       [14],\n",
            "       [17]]), array([[ 3],\n",
            "       [ 6],\n",
            "       [ 9],\n",
            "       [12],\n",
            "       [15],\n",
            "       [18]])]\n",
            "####################################################################################################\n",
            "(array([1]), array([0]))\n"
          ]
        }
      ]
    },
    {
      "cell_type": "code",
      "source": [
        "arr=np.array([1,4,2,3])\n",
        "x=np.searchsorted(arr,3)\n",
        "print(x)\n",
        "x=np.sort(arr)\n",
        "print('####'*20)\n",
        "print(x)"
      ],
      "metadata": {
        "colab": {
          "base_uri": "https://localhost:8080/"
        },
        "id": "jwo3AbZMtoVe",
        "outputId": "72f72a87-6129-4398-9cbb-4de7f7fa370f"
      },
      "execution_count": 41,
      "outputs": [
        {
          "output_type": "stream",
          "name": "stdout",
          "text": [
            "3\n",
            "################################################################################\n",
            "[1 2 3 4]\n"
          ]
        }
      ]
    },
    {
      "cell_type": "code",
      "source": [
        "arr = np.array([1, 2, 3, 4])\n",
        "x = [True, False, True, False]\n",
        "newarr = arr[x]\n",
        "print(newarr)\n",
        "filter_arr = []\n",
        "for element in arr:\n",
        "  if element > 2:\n",
        "    filter_arr.append(True)\n",
        "  else:\n",
        "    filter_arr.append(False)\n",
        "newarr = arr[filter_arr]\n",
        "print(filter_arr)\n",
        "print(newarr)"
      ],
      "metadata": {
        "colab": {
          "base_uri": "https://localhost:8080/"
        },
        "id": "w_Em_KyJxQkd",
        "outputId": "eb614c61-ac8a-453f-cbf7-4e7974c7ada0"
      },
      "execution_count": 44,
      "outputs": [
        {
          "output_type": "stream",
          "name": "stdout",
          "text": [
            "[1 3]\n",
            "[False, False, True, True]\n",
            "[3 4]\n"
          ]
        }
      ]
    },
    {
      "cell_type": "code",
      "source": [
        "arr = np.array([1, 2, 3, 4])\n",
        "filter_arr = arr > 2\n",
        "newarr = arr[filter_arr]\n",
        "print(filter_arr)\n",
        "print(newarr)\n",
        "print(arr * 2)\n",
        "print((arr * 2) + (arr + 4))"
      ],
      "metadata": {
        "colab": {
          "base_uri": "https://localhost:8080/"
        },
        "id": "plaqLh516zL5",
        "outputId": "e27ece75-cb8e-4a4c-9faa-43361c094297"
      },
      "execution_count": 57,
      "outputs": [
        {
          "output_type": "stream",
          "name": "stdout",
          "text": [
            "[False False  True  True]\n",
            "[3 4]\n",
            "[2 4 6 8]\n",
            "[ 7 10 13 16]\n"
          ]
        }
      ]
    },
    {
      "cell_type": "code",
      "source": [
        "from numpy import random\n",
        "x = random.randint(50)\n",
        "print(x)\n",
        "x = random.rand()\n",
        "print(x)\n",
        "x=random.randint(50, size=(5,2))\n",
        "print(x)\n",
        "x = random.choice([1,2,3,4,5],size=(5,2))\n",
        "print(x)"
      ],
      "metadata": {
        "colab": {
          "base_uri": "https://localhost:8080/"
        },
        "id": "Ci027tpK7zZT",
        "outputId": "f3c4a884-b1bd-4d3a-b81f-cd6a96d901be"
      },
      "execution_count": 55,
      "outputs": [
        {
          "output_type": "stream",
          "name": "stdout",
          "text": [
            "25\n",
            "0.011044001795179392\n",
            "[[48 14]\n",
            " [18 49]\n",
            " [19 40]\n",
            " [10 19]\n",
            " [16 29]]\n",
            "[[5 2]\n",
            " [1 1]\n",
            " [3 1]\n",
            " [1 3]\n",
            " [2 5]]\n"
          ]
        }
      ]
    },
    {
      "cell_type": "code",
      "source": [],
      "metadata": {
        "id": "S0G54At08G7y"
      },
      "execution_count": 48,
      "outputs": []
    }
  ]
}